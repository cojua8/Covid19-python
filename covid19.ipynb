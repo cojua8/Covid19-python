{
 "cells": [
  {
   "cell_type": "markdown",
   "metadata": {},
   "source": [
    "# Covid 19 Data"
   ]
  },
  {
   "cell_type": "code",
   "execution_count": null,
   "metadata": {},
   "outputs": [],
   "source": [
    "import ipywidgets as widgets\n",
    "from ipywidgets import interact, interact_manual\n",
    "\n",
    "from covid19api import Covid19\n",
    "cov19 = Covid19()"
   ]
  },
  {
   "cell_type": "markdown",
   "metadata": {},
   "source": [
    "## Historia de la enfermedad en un país"
   ]
  },
  {
   "cell_type": "code",
   "execution_count": null,
   "metadata": {},
   "outputs": [],
   "source": [
    "@interact\n",
    "def graficar_historia(Pais=sorted(cov19._slugs.keys())):\n",
    "    try: \n",
    "        print(\"Cargando datos...\")\n",
    "        cov19.grafPais(Pais)\n",
    "    except:\n",
    "        print(\"No existen datos\")"
   ]
  },
  {
   "cell_type": "markdown",
   "metadata": {},
   "source": [
    "## Comparación de la enfermedad entre países desde el día del primer contagio"
   ]
  },
  {
   "cell_type": "markdown",
   "metadata": {},
   "source": [
    "### Selección de paises"
   ]
  },
  {
   "cell_type": "code",
   "execution_count": null,
   "metadata": {},
   "outputs": [],
   "source": [
    "@interact\n",
    "def comparar_paises(Paises = widgets.SelectMultiple(options=sorted(cov19._slugs.keys()), rows=8)):\n",
    "    print(\"\")\n",
    "    global paisesData\n",
    "    global paises\n",
    "    paises = Paises\n",
    "    paisesData = len(paises)*[[]]\n",
    "    for (i, pais) in enumerate(paises):\n",
    "        try:\n",
    "            paisesData[i] = cov19.allData(pais)      \n",
    "        except:\n",
    "            paisesData[i] = None\n",
    "            print(\"No se obtuvieron los datos de {}, por favor deselecciónelo.\".format(pais))"
   ]
  },
  {
   "cell_type": "markdown",
   "metadata": {},
   "source": [
    "### Gráficos \n",
    "(correr después de la celda anterior)"
   ]
  },
  {
   "cell_type": "code",
   "execution_count": null,
   "metadata": {},
   "outputs": [],
   "source": [
    "@interact\n",
    "def myfunc(n = widgets.IntSlider(value=len(max(paisesData, key=len)), min=1, max=len(max(paisesData, key=len)), step=1, description='Días:', continuous_update=True)):\n",
    "    cov19.compararPaises(paises, paisesData, n)"
   ]
  },
  {
   "cell_type": "code",
   "execution_count": null,
   "metadata": {},
   "outputs": [],
   "source": []
  }
 ],
 "metadata": {
  "@webio": {
   "lastCommId": null,
   "lastKernelId": null
  },
  "file_extension": ".py",
  "kernelspec": {
   "display_name": "Python 3",
   "language": "python",
   "name": "python3"
  },
  "language_info": {
   "codemirror_mode": {
    "name": "ipython",
    "version": 3
   },
   "file_extension": ".py",
   "mimetype": "text/x-python",
   "name": "python",
   "nbconvert_exporter": "python",
   "pygments_lexer": "ipython3",
   "version": "3.8.2"
  },
  "mimetype": "text/x-python",
  "name": "python",
  "npconvert_exporter": "python",
  "pygments_lexer": "ipython3",
  "version": 3
 },
 "nbformat": 4,
 "nbformat_minor": 4
}
